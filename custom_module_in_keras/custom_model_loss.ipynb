{
  "nbformat": 4,
  "nbformat_minor": 0,
  "metadata": {
    "colab": {
      "name": "custom_model_loss.ipynb",
      "provenance": [],
      "collapsed_sections": [],
      "toc_visible": true
    },
    "kernelspec": {
      "name": "python3",
      "display_name": "Python 3"
    },
    "accelerator": "GPU"
  },
  "cells": [
    {
      "cell_type": "markdown",
      "metadata": {
        "id": "MTmaNGAUq35c",
        "colab_type": "text"
      },
      "source": [
        "tf2 keras 框架下实现  \n",
        "参考  \n",
        "  https://tensorflow.google.cn/guide/keras/train_and_evaluate#custom_metrics  \n",
        "  https://tensorflow.google.cn/guide/keras/custom_callback  \n",
        "  https://spaces.ac.cn/archives/4493  \n",
        "\n",
        "两种loss实现的同时也对比了在keras自带Adam 和自定义AdaFactor 两种优化器下是否都可以执行"
      ]
    },
    {
      "cell_type": "code",
      "metadata": {
        "id": "1cDtYDHlp_hR",
        "colab_type": "code",
        "colab": {
          "base_uri": "https://localhost:8080/",
          "height": 710
        },
        "outputId": "f0c38c3c-9bbe-4db6-d36e-0ff06333916a"
      },
      "source": [
        "! pip install git+https://www.github.com/bojone/bert4keras.git\n",
        "import tensorflow as tf\n",
        "from tensorflow.python.client import device_lib\n",
        "print(tf.__version__)\n",
        "tf.test.gpu_device_name()\n",
        "device_lib.list_local_devices()\n",
        "!nvidia-smi"
      ],
      "execution_count": 1,
      "outputs": [
        {
          "output_type": "stream",
          "text": [
            "Collecting git+https://www.github.com/bojone/bert4keras.git\n",
            "  Cloning https://www.github.com/bojone/bert4keras.git to /tmp/pip-req-build-jabazvj0\n",
            "  Running command git clone -q https://www.github.com/bojone/bert4keras.git /tmp/pip-req-build-jabazvj0\n",
            "Requirement already satisfied: keras<=2.3.1 in /usr/local/lib/python3.6/dist-packages (from bert4keras==0.8.3) (2.3.1)\n",
            "Requirement already satisfied: scipy>=0.14 in /usr/local/lib/python3.6/dist-packages (from keras<=2.3.1->bert4keras==0.8.3) (1.4.1)\n",
            "Requirement already satisfied: six>=1.9.0 in /usr/local/lib/python3.6/dist-packages (from keras<=2.3.1->bert4keras==0.8.3) (1.12.0)\n",
            "Requirement already satisfied: numpy>=1.9.1 in /usr/local/lib/python3.6/dist-packages (from keras<=2.3.1->bert4keras==0.8.3) (1.18.5)\n",
            "Requirement already satisfied: keras-preprocessing>=1.0.5 in /usr/local/lib/python3.6/dist-packages (from keras<=2.3.1->bert4keras==0.8.3) (1.1.2)\n",
            "Requirement already satisfied: pyyaml in /usr/local/lib/python3.6/dist-packages (from keras<=2.3.1->bert4keras==0.8.3) (3.13)\n",
            "Requirement already satisfied: h5py in /usr/local/lib/python3.6/dist-packages (from keras<=2.3.1->bert4keras==0.8.3) (2.10.0)\n",
            "Requirement already satisfied: keras-applications>=1.0.6 in /usr/local/lib/python3.6/dist-packages (from keras<=2.3.1->bert4keras==0.8.3) (1.0.8)\n",
            "Building wheels for collected packages: bert4keras\n",
            "  Building wheel for bert4keras (setup.py) ... \u001b[?25l\u001b[?25hdone\n",
            "  Created wheel for bert4keras: filename=bert4keras-0.8.3-cp36-none-any.whl size=41795 sha256=1896511b84e7c4178eb9cf76b8b6ebc06e90fdc29564918e14536ddf8d3aff36\n",
            "  Stored in directory: /tmp/pip-ephem-wheel-cache-4thsji5l/wheels/12/58/83/8ff5c864b80c860e6d9e9e0d90c04fafca05d01d21f9f6fcba\n",
            "Successfully built bert4keras\n",
            "Installing collected packages: bert4keras\n",
            "Successfully installed bert4keras-0.8.3\n",
            "2.2.0\n",
            "Tue Jul 21 04:39:28 2020       \n",
            "+-----------------------------------------------------------------------------+\n",
            "| NVIDIA-SMI 450.51.05    Driver Version: 418.67       CUDA Version: 10.1     |\n",
            "|-------------------------------+----------------------+----------------------+\n",
            "| GPU  Name        Persistence-M| Bus-Id        Disp.A | Volatile Uncorr. ECC |\n",
            "| Fan  Temp  Perf  Pwr:Usage/Cap|         Memory-Usage | GPU-Util  Compute M. |\n",
            "|                               |                      |               MIG M. |\n",
            "|===============================+======================+======================|\n",
            "|   0  Tesla K80           Off  | 00000000:00:04.0 Off |                    0 |\n",
            "| N/A   54C    P0    70W / 149W |    130MiB / 11441MiB |      0%      Default |\n",
            "|                               |                      |                 ERR! |\n",
            "+-------------------------------+----------------------+----------------------+\n",
            "                                                                               \n",
            "+-----------------------------------------------------------------------------+\n",
            "| Processes:                                                                  |\n",
            "|  GPU   GI   CI        PID   Type   Process name                  GPU Memory |\n",
            "|        ID   ID                                                   Usage      |\n",
            "|=============================================================================|\n",
            "|  No running processes found                                                 |\n",
            "+-----------------------------------------------------------------------------+\n"
          ],
          "name": "stdout"
        }
      ]
    },
    {
      "cell_type": "markdown",
      "metadata": {
        "id": "EMBiHjzwqZDM",
        "colab_type": "text"
      },
      "source": [
        "## 标准输入loss_fun(y_true,y_pred)"
      ]
    },
    {
      "cell_type": "code",
      "metadata": {
        "id": "d1cQFf9zs5m-",
        "colab_type": "code",
        "colab": {
          "base_uri": "https://localhost:8080/",
          "height": 144
        },
        "outputId": "9e43e34a-4cd6-47a8-fe42-b58b7b28278a"
      },
      "source": [
        "from keras.layers import Input,Embedding,LSTM,Dense\n",
        "from keras.models import Model\n",
        "from keras import backend as K\n",
        "from bert4keras.optimizers import *\n",
        "import numpy as np\n",
        "\n",
        "word_size = 128\n",
        "nb_features = 10000\n",
        "nb_classes = 10\n",
        "encode_size = 64\n",
        "# 构造模型\n",
        "input = Input(shape=(None,))\n",
        "embedded = Embedding(nb_features,word_size)(input)\n",
        "encoder = LSTM(encode_size)(embedded)\n",
        "predict = Dense(nb_classes, activation='softmax')(encoder)\n",
        "\n",
        "def mycrossentropy(y_true, y_pred, e=0.1):\n",
        "    loss1 = K.categorical_crossentropy(y_true, y_pred)\n",
        "    loss2 = K.categorical_crossentropy(K.ones_like(y_pred)/nb_classes, y_pred)\n",
        "    return (1-e)*loss1 + e*loss2\n",
        "\n",
        "model = Model(inputs=input, outputs=predict)\n",
        "model.compile(optimizer='adam', loss= mycrossentropy)\n",
        "\n",
        "# 构造数据\n",
        "data_size = 20\n",
        "x_len = 10\n",
        "x_array = np.random.randint(0,10,x_len*data_size).reshape((data_size,x_len))\n",
        "#print(x_array)\n",
        "y_len = nb_classes\n",
        "y_array = [[0]*y_len for _ in list(range(data_size))]\n",
        "y_ramdom = np.random.randint(0,y_len,data_size)\n",
        "#print(y_ramdom)\n",
        "for i,ind in enumerate(y_ramdom):\n",
        "  y_array[i][ind]=1\n",
        "y_array = np.array(y_array)\n",
        "#print(y_array)\n",
        "print(x_array.shape,y_array.shape)\n",
        "# train\n",
        "model.fit(x_array,y_array,epochs=1)"
      ],
      "execution_count": 4,
      "outputs": [
        {
          "output_type": "stream",
          "text": [
            "(20, 10) (20, 10)\n"
          ],
          "name": "stdout"
        },
        {
          "output_type": "stream",
          "text": [
            "/usr/local/lib/python3.6/dist-packages/tensorflow/python/framework/indexed_slices.py:434: UserWarning: Converting sparse IndexedSlices to a dense Tensor of unknown shape. This may consume a large amount of memory.\n",
            "  \"Converting sparse IndexedSlices to a dense Tensor of unknown shape. \"\n"
          ],
          "name": "stderr"
        },
        {
          "output_type": "stream",
          "text": [
            "Epoch 1/1\n",
            "20/20 [==============================] - 0s 18ms/step - loss: 2.3068\n"
          ],
          "name": "stdout"
        },
        {
          "output_type": "execute_result",
          "data": {
            "text/plain": [
              "<keras.callbacks.callbacks.History at 0x7f6c88f85f60>"
            ]
          },
          "metadata": {
            "tags": []
          },
          "execution_count": 4
        }
      ]
    },
    {
      "cell_type": "markdown",
      "metadata": {
        "id": "xYeHLC_Otzm2",
        "colab_type": "text"
      },
      "source": [
        "### 测试自定义Optimizer AdaFactor\n",
        "说明此处自定义optimizer 采用bert4keras 作者封装的AdaFactor用于测试\n",
        "后续会单独拆解如何自定义optimizer"
      ]
    },
    {
      "cell_type": "code",
      "metadata": {
        "id": "WV1axroutyZ4",
        "colab_type": "code",
        "colab": {
          "base_uri": "https://localhost:8080/",
          "height": 126
        },
        "outputId": "8e1636b6-1d56-4134-e780-7f93bfac189c"
      },
      "source": [
        "from bert4keras.optimizers import *\n",
        "model2 = Model(inputs=input, outputs=predict)\n",
        "model2.compile(optimizer=AdaFactor(), loss= mycrossentropy)\n",
        "model2.fit(x_array,y_array,epochs=1)"
      ],
      "execution_count": 5,
      "outputs": [
        {
          "output_type": "stream",
          "text": [
            "/usr/local/lib/python3.6/dist-packages/tensorflow/python/framework/indexed_slices.py:434: UserWarning: Converting sparse IndexedSlices to a dense Tensor of unknown shape. This may consume a large amount of memory.\n",
            "  \"Converting sparse IndexedSlices to a dense Tensor of unknown shape. \"\n"
          ],
          "name": "stderr"
        },
        {
          "output_type": "stream",
          "text": [
            "Epoch 1/1\n",
            "20/20 [==============================] - 0s 19ms/step - loss: 2.2981\n"
          ],
          "name": "stdout"
        },
        {
          "output_type": "execute_result",
          "data": {
            "text/plain": [
              "<keras.callbacks.callbacks.History at 0x7f6c88ac1b00>"
            ]
          },
          "metadata": {
            "tags": []
          },
          "execution_count": 5
        }
      ]
    },
    {
      "cell_type": "markdown",
      "metadata": {
        "id": "SSZv-S0fuv8L",
        "colab_type": "text"
      },
      "source": [
        "## 自定义输入triplet loss"
      ]
    },
    {
      "cell_type": "code",
      "metadata": {
        "id": "dWb7hgMuvMtn",
        "colab_type": "code",
        "colab": {
          "base_uri": "https://localhost:8080/",
          "height": 464
        },
        "outputId": "cbfa566b-30a0-4afc-b74c-0a551816e192"
      },
      "source": [
        "from keras.layers import Input,Embedding,LSTM,Dense,Lambda\n",
        "from keras.layers.merge import dot\n",
        "from keras.models import Model\n",
        "from keras import backend as K\n",
        "\n",
        "word_size = 128\n",
        "nb_features = 10000\n",
        "nb_classes = 10\n",
        "encode_size = 64\n",
        "margin = 0.1\n",
        "# =============================================================================\n",
        "## 模型构造\n",
        "embedding = Embedding(nb_features,word_size)\n",
        "lstm_encoder = LSTM(encode_size)\n",
        "\n",
        "def encode(input):\n",
        "    return lstm_encoder(embedding(input))\n",
        "\n",
        "q_input = Input(shape=(None,))\n",
        "a_right = Input(shape=(None,))\n",
        "a_wrong = Input(shape=(None,))\n",
        "q_encoded = encode(q_input)\n",
        "a_right_encoded = encode(a_right)\n",
        "a_wrong_encoded = encode(a_wrong)\n",
        "\n",
        "q_encoded = Dense(encode_size)(q_encoded) #一般的做法是，直接讲问题和答案用同样的方法encode成向量后直接匹配，但我认为这是不合理的，我认为至少经过某个变换。\n",
        "\n",
        "right_cos = dot([q_encoded,a_right_encoded], -1, normalize=True)\n",
        "wrong_cos = dot([q_encoded,a_wrong_encoded], -1, normalize=True)\n",
        "\n",
        "loss = Lambda(lambda x: K.relu(margin+x[0]-x[1]))([wrong_cos,right_cos])\n",
        "\n",
        "model_train = Model(inputs=[q_input,a_right,a_wrong], outputs=loss)\n",
        "model_q_encoder = Model(inputs=q_input, outputs=q_encoded)\n",
        "model_a_encoder = Model(inputs=a_right, outputs=a_right_encoded)\n",
        "\n",
        "model_train.compile(optimizer='adam', loss=lambda y_true,y_pred: y_pred)\n",
        "model_q_encoder.compile(optimizer='adam', loss='mse')\n",
        "model_a_encoder.compile(optimizer='adam', loss='mse')\n",
        "# =============================================================================\n",
        "## 数据构造\n",
        "# q : id序列，a1 a2 与 q 一样尺寸的 0/1 位置标记\n",
        "data_size = 20\n",
        "x_len = 10\n",
        "q = np.random.randint(0,10,x_len*data_size).reshape((data_size,x_len))\n",
        "#print(q)\n",
        "\n",
        "y_len = x_len\n",
        "a1 = [[0]*y_len for _ in list(range(data_size))]\n",
        "a2 = [[0]*y_len for _ in list(range(data_size))]\n",
        "y_ramdom = np.random.randint(0,y_len,data_size)\n",
        "y_ramdom = list(map(lambda x : x if x<9 else 0 ,y_ramdom))\n",
        "y_wrong = [min(x+1,y_len-1) for x in y_ramdom]#负采样\n",
        "#print(y_ramdom,y_wrong)\n",
        "\n",
        "for i,ind in enumerate(y_ramdom):\n",
        "  a1[i][ind]=1\n",
        "for i,ind in enumerate(y_wrong):\n",
        "  a2[i][ind]=1\n",
        "a1 = np.array(a1)\n",
        "a2 = np.array(a2)\n",
        "#print(a1,a2)\n",
        "print(q.shape,a1.shape)\n",
        "y = np.random.randint(0,2,1*data_size).reshape((data_size,1))\n",
        "#print(y,y.shape)\n",
        "# =============================================================================\n",
        "## train\n",
        "model_train.fit([q,a1,a2], y, epochs=10)\n",
        "#其中q,a1,a2分别是问题、正确答案、错误答案的batch，y是任意形状为(len(q),1)的矩阵"
      ],
      "execution_count": 8,
      "outputs": [
        {
          "output_type": "stream",
          "text": [
            "(20, 10) (20, 10)\n"
          ],
          "name": "stdout"
        },
        {
          "output_type": "stream",
          "text": [
            "/usr/local/lib/python3.6/dist-packages/tensorflow/python/framework/indexed_slices.py:434: UserWarning: Converting sparse IndexedSlices to a dense Tensor of unknown shape. This may consume a large amount of memory.\n",
            "  \"Converting sparse IndexedSlices to a dense Tensor of unknown shape. \"\n"
          ],
          "name": "stderr"
        },
        {
          "output_type": "stream",
          "text": [
            "Epoch 1/10\n",
            "20/20 [==============================] - 1s 49ms/step - loss: 0.0961\n",
            "Epoch 2/10\n",
            "20/20 [==============================] - 0s 4ms/step - loss: 0.0778\n",
            "Epoch 3/10\n",
            "20/20 [==============================] - 0s 4ms/step - loss: 0.0622\n",
            "Epoch 4/10\n",
            "20/20 [==============================] - 0s 5ms/step - loss: 0.0556\n",
            "Epoch 5/10\n",
            "20/20 [==============================] - 0s 4ms/step - loss: 0.0498\n",
            "Epoch 6/10\n",
            "20/20 [==============================] - 0s 4ms/step - loss: 0.0435\n",
            "Epoch 7/10\n",
            "20/20 [==============================] - 0s 4ms/step - loss: 0.0389\n",
            "Epoch 8/10\n",
            "20/20 [==============================] - 0s 4ms/step - loss: 0.0350\n",
            "Epoch 9/10\n",
            "20/20 [==============================] - 0s 4ms/step - loss: 0.0309\n",
            "Epoch 10/10\n",
            "20/20 [==============================] - 0s 4ms/step - loss: 0.0258\n"
          ],
          "name": "stdout"
        },
        {
          "output_type": "execute_result",
          "data": {
            "text/plain": [
              "<keras.callbacks.callbacks.History at 0x7f6c87ac2898>"
            ]
          },
          "metadata": {
            "tags": []
          },
          "execution_count": 8
        }
      ]
    },
    {
      "cell_type": "code",
      "metadata": {
        "id": "NX0yH4oiwWyy",
        "colab_type": "code",
        "colab": {
          "base_uri": "https://localhost:8080/",
          "height": 799
        },
        "outputId": "4504271a-034a-41be-b665-f9f285255a64"
      },
      "source": [
        "\n",
        "q_temp = np.random.randint(0,10,20).reshape((2,10))\n",
        "print(model_q_encoder.predict(q_temp))\n",
        "print(model_a_encoder.predict(q_temp))"
      ],
      "execution_count": 12,
      "outputs": [
        {
          "output_type": "stream",
          "text": [
            "[[ 0.01453993 -0.00562698  0.01424397 -0.00596067  0.02922352 -0.00973755\n",
            "   0.0088687   0.00974386 -0.02046435  0.0235047  -0.03514804 -0.01871555\n",
            "   0.00842636 -0.05295112 -0.0209622  -0.06124398  0.00663771 -0.01142377\n",
            "  -0.03086904  0.03342791  0.01062222  0.02521044 -0.0237724  -0.00272057\n",
            "  -0.02169065  0.01687902  0.02022937 -0.01795528 -0.00012353  0.04738297\n",
            "  -0.04679681 -0.02535913 -0.04048171  0.00371677 -0.02239585  0.03536025\n",
            "   0.04912126  0.01894899 -0.00855447  0.01653391 -0.00767307  0.00935317\n",
            "  -0.01510719  0.00748171  0.00387116  0.02085221  0.03900766  0.04929505\n",
            "   0.00652571 -0.02875523  0.00613667  0.01378987  0.01051747 -0.02158486\n",
            "  -0.03003236  0.01224885 -0.06878784 -0.02980276  0.01651664 -0.03540721\n",
            "   0.00279418 -0.01783215 -0.0127061   0.00735367]\n",
            " [ 0.0040168  -0.01170977  0.00683147  0.00996666  0.03682316 -0.02048496\n",
            "  -0.00367504  0.00371774 -0.01962885  0.01289939 -0.02837418 -0.01111015\n",
            "   0.01568361 -0.06167425 -0.0020009  -0.0394701   0.01570628 -0.00177094\n",
            "  -0.01050357  0.03014465 -0.00066745  0.02879972 -0.03935693  0.00575876\n",
            "  -0.02436978  0.00406527  0.0190791  -0.03185841 -0.01834933  0.04314741\n",
            "  -0.03388769 -0.01843011 -0.05153129 -0.00402532 -0.01002141  0.01884876\n",
            "   0.06397064  0.02720855 -0.01498094  0.02293618 -0.0196208   0.01590191\n",
            "  -0.02534627  0.0162974  -0.0198274   0.01668641  0.05132608  0.03581183\n",
            "   0.02185889 -0.01990231  0.01494553  0.01096599  0.01394405 -0.02677735\n",
            "  -0.04925963  0.02087438 -0.05783169 -0.04156092  0.02018045 -0.05084281\n",
            "   0.00851612 -0.03960479 -0.02361868  0.00441228]]\n",
            "[[-0.02233901  0.01164979 -0.03501943  0.00462269 -0.02698989  0.00413439\n",
            "   0.01358169 -0.00449469 -0.00825984  0.00389048  0.02012857  0.02377101\n",
            "  -0.01498403  0.03032168  0.01864212  0.0275097   0.01595974 -0.01235668\n",
            "   0.00785582 -0.02880356  0.01448981  0.00104514  0.0025263  -0.01181587\n",
            "   0.02592506  0.01673923  0.0010875   0.00706302 -0.01724556 -0.02315006\n",
            "   0.0080826   0.00037902  0.03814285 -0.00398189  0.03284437 -0.03093471\n",
            "  -0.00956754 -0.01267675  0.00262344  0.00479665 -0.00658497  0.00420072\n",
            "   0.01247445  0.01105367 -0.00517668  0.00018576  0.00202919 -0.01255068\n",
            "   0.01746693  0.02628028 -0.00130542 -0.015586   -0.0213297   0.01005712\n",
            "  -0.00389871 -0.00669944  0.04187603  0.02865125 -0.02780947  0.02430342\n",
            "   0.00594111  0.0381021  -0.00812243  0.00890604]\n",
            " [-0.01431158  0.00015201 -0.04057142  0.00345279 -0.0118535   0.01802405\n",
            "   0.00966414 -0.02816554  0.00749594  0.01678171  0.0182994   0.0129142\n",
            "  -0.01782282  0.0102977   0.01538585  0.04114413  0.01497034 -0.01092686\n",
            "   0.00396482 -0.02651706  0.02127925 -0.00932968 -0.00191335 -0.02325475\n",
            "   0.03058304  0.00905064 -0.00346365  0.02306198  0.00406846 -0.03695545\n",
            "  -0.01269038  0.00174309  0.03110575 -0.02199387  0.02488069 -0.04792181\n",
            "   0.01470311 -0.01998242  0.00550545 -0.01659956 -0.00236085 -0.00387948\n",
            "   0.01258845  0.00943316  0.0137062   0.00685862  0.00249582 -0.01403001\n",
            "   0.01512386  0.0118653   0.01489603 -0.02428147 -0.00478077 -0.01172135\n",
            "  -0.00098516 -0.00099169  0.02911271  0.02898501 -0.04401758  0.01526102\n",
            "   0.00188189  0.02982375 -0.01338415  0.02089095]]\n"
          ],
          "name": "stdout"
        }
      ]
    },
    {
      "cell_type": "markdown",
      "metadata": {
        "id": "mN7pLlGvvrlk",
        "colab_type": "text"
      },
      "source": [
        "### 测试自定义Optimizer AdaFactor"
      ]
    },
    {
      "cell_type": "code",
      "metadata": {
        "id": "mgrFeHV1vx-q",
        "colab_type": "code",
        "colab": {
          "base_uri": "https://localhost:8080/",
          "height": 446
        },
        "outputId": "6f40a7ad-9fb0-4f72-ffa7-c917b6d3d178"
      },
      "source": [
        "model_train2 = Model(inputs=[q_input,a_right,a_wrong], outputs=loss)\n",
        "model_q_encoder2 = Model(inputs=q_input, outputs=q_encoded)\n",
        "model_a_encoder2 = Model(inputs=a_right, outputs=a_right_encoded)\n",
        "\n",
        "model_train2.compile(optimizer=AdaFactor(1e-3), loss=lambda y_true,y_pred: y_pred)\n",
        "model_q_encoder2.compile(optimizer=AdaFactor(1e-3), loss='mse')\n",
        "model_a_encoder2.compile(optimizer=AdaFactor(1e-3), loss='mse')\n",
        "\n",
        "model_train2.fit([q,a1,a2], y, epochs=10)"
      ],
      "execution_count": 13,
      "outputs": [
        {
          "output_type": "stream",
          "text": [
            "/usr/local/lib/python3.6/dist-packages/tensorflow/python/framework/indexed_slices.py:434: UserWarning: Converting sparse IndexedSlices to a dense Tensor of unknown shape. This may consume a large amount of memory.\n",
            "  \"Converting sparse IndexedSlices to a dense Tensor of unknown shape. \"\n"
          ],
          "name": "stderr"
        },
        {
          "output_type": "stream",
          "text": [
            "Epoch 1/10\n",
            "20/20 [==============================] - 1s 50ms/step - loss: 0.0214\n",
            "Epoch 2/10\n",
            "20/20 [==============================] - 0s 4ms/step - loss: 0.1119\n",
            "Epoch 3/10\n",
            "20/20 [==============================] - 0s 3ms/step - loss: 0.1115\n",
            "Epoch 4/10\n",
            "20/20 [==============================] - 0s 5ms/step - loss: 0.1111\n",
            "Epoch 5/10\n",
            "20/20 [==============================] - 0s 4ms/step - loss: 0.1106\n",
            "Epoch 6/10\n",
            "20/20 [==============================] - 0s 4ms/step - loss: 0.1101\n",
            "Epoch 7/10\n",
            "20/20 [==============================] - 0s 4ms/step - loss: 0.1096\n",
            "Epoch 8/10\n",
            "20/20 [==============================] - 0s 4ms/step - loss: 0.1090\n",
            "Epoch 9/10\n",
            "20/20 [==============================] - 0s 4ms/step - loss: 0.1084\n",
            "Epoch 10/10\n",
            "20/20 [==============================] - 0s 4ms/step - loss: 0.1078\n"
          ],
          "name": "stdout"
        },
        {
          "output_type": "execute_result",
          "data": {
            "text/plain": [
              "<keras.callbacks.callbacks.History at 0x7f6c871f3630>"
            ]
          },
          "metadata": {
            "tags": []
          },
          "execution_count": 13
        }
      ]
    },
    {
      "cell_type": "code",
      "metadata": {
        "id": "2IcZO8YzyByO",
        "colab_type": "code",
        "colab": {
          "base_uri": "https://localhost:8080/",
          "height": 977
        },
        "outputId": "1271268e-6e9f-4108-d3ef-298d890304a0"
      },
      "source": [
        "q_temp = np.random.randint(0,10,20).reshape((2,10))\n",
        "print(model_q_encoder.predict(q_temp))\n",
        "print(model_a_encoder.predict(q_temp))"
      ],
      "execution_count": 14,
      "outputs": [
        {
          "output_type": "stream",
          "text": [
            "[[ 0.17013536 -0.12803134  0.81835103 -0.40400583  0.5529031   0.34814867\n",
            "  -0.12547715 -0.23404755  0.35967755 -0.5073197  -0.14004096  0.4665255\n",
            "   0.7347514   0.31813377  0.03673103  0.08659136  0.09272325  0.28349522\n",
            "   0.9962105  -0.07956529 -0.76867646 -0.41571182 -0.5606564   0.06912786\n",
            "  -0.22771195  0.06609165 -0.02848083 -0.48501885 -0.03491921 -0.24105152\n",
            "  -0.19094773  0.07582311 -0.14129163  0.19157688  0.5998938  -0.06636051\n",
            "  -0.71505654 -0.05728829 -0.05894502  0.22055946  0.5279871  -0.21601668\n",
            "  -0.59748983  0.15371923 -0.21674079 -0.07280705  0.05722732 -0.7410108\n",
            "  -0.05459466 -0.42537442 -0.11368894 -0.46594083 -0.03504705 -0.00372955\n",
            "   0.67588544  0.10958757 -0.18258744 -0.3903203  -0.07150177 -0.09541807\n",
            "   0.17884365 -0.31851897 -0.22108732  0.51267284]\n",
            " [ 0.03355308  0.00575609  0.6730226  -0.13472328  0.43689182  0.25743672\n",
            "  -0.2774217  -0.24944371  0.37511334 -0.51027733 -0.22842759  0.5848009\n",
            "   0.7888117  -0.12492432  0.2691981   0.07849284  0.08013863 -0.15021871\n",
            "   0.8662104  -0.21498996 -0.44974414 -0.2830507  -0.2960123   0.09490608\n",
            "  -0.12299023 -0.09836969 -0.17941548 -0.39147407 -0.03984663 -0.30926776\n",
            "  -0.33088169 -0.12206097 -0.43948376  0.3921957   0.43193823 -0.07070165\n",
            "  -0.7206668   0.06463877 -0.33249202  0.2267968   0.35165763 -0.17850256\n",
            "  -0.48457497 -0.04857946 -0.12849617 -0.22501333  0.10148084 -0.75271875\n",
            "  -0.08215579 -0.22453588 -0.171492   -0.5076625   0.09994926 -0.06765771\n",
            "   0.5636077  -0.06047934 -0.40495536 -0.5636788  -0.3310618  -0.09998056\n",
            "   0.18117121 -0.35507622  0.07755765  0.4105177 ]]\n",
            "[[-3.36365402e-02 -8.56173038e-01  5.52749038e-01 -6.10435963e-01\n",
            "   4.34192508e-01  4.20762151e-01 -4.93152440e-01  7.73994550e-02\n",
            "  -9.59451646e-02  1.02273695e-01  1.51336059e-01  2.37857159e-02\n",
            "  -3.74223664e-03 -2.20280122e-02  7.72561431e-02  4.91204411e-01\n",
            "  -8.03780913e-01 -4.77703512e-02 -2.48199165e-01  1.45981967e-01\n",
            "  -1.08173657e-02  4.43087369e-01  2.24235393e-02 -1.95581496e-01\n",
            "  -1.96931243e-01  1.82922855e-01 -9.03558612e-01 -7.63612151e-01\n",
            "   2.93180756e-02  3.62801701e-01  5.75042963e-02 -7.70529807e-01\n",
            "  -5.90077996e-01 -1.88637421e-01  2.67564766e-02 -1.53167695e-01\n",
            "   4.96075928e-01  2.00453736e-02 -1.83675036e-01 -3.27346087e-01\n",
            "  -1.05961887e-02 -1.07216604e-01 -2.30594072e-02  7.02062309e-01\n",
            "   2.18051430e-02 -9.52811912e-03 -9.51450504e-03  6.95644557e-01\n",
            "  -4.38252896e-01 -4.89050776e-01 -7.34668300e-02 -2.33947933e-02\n",
            "   3.59543025e-01  1.26026556e-01 -2.68184304e-01  2.60217898e-02\n",
            "  -1.47874281e-01 -2.43058372e-02 -1.42821699e-01 -2.83750407e-02\n",
            "  -6.69619069e-02 -2.67554343e-01 -1.96780682e-01  1.09347902e-01]\n",
            " [ 2.18789086e-01 -7.67702520e-01  3.02631497e-01 -1.87572762e-01\n",
            "   6.14001453e-01  6.23024583e-01 -1.62741750e-01  7.12880865e-02\n",
            "  -1.33012101e-01 -1.67412251e-01  1.19918279e-01 -2.86060828e-03\n",
            "   2.51938845e-03 -2.75591034e-02 -3.16261686e-02  2.57011265e-01\n",
            "  -4.72850889e-01 -8.03019330e-02 -1.67687282e-01  3.00413549e-01\n",
            "  -4.26083431e-02  3.03089142e-01 -5.84820053e-03 -2.46674716e-02\n",
            "  -1.69853106e-01  4.44374055e-01 -6.47530019e-01 -6.16362274e-01\n",
            "   3.25655974e-02  3.20027143e-01 -7.32066296e-03 -9.59764063e-01\n",
            "  -6.24167442e-01 -2.98727363e-01  1.28355538e-02 -3.31362367e-01\n",
            "   4.10061538e-01  3.33449692e-02 -2.33596817e-01 -1.58398405e-01\n",
            "  -1.86803974e-02 -3.90589982e-02  1.30220234e-01  3.33746791e-01\n",
            "   1.34817973e-01 -1.93464442e-03  1.79254712e-04  6.66133463e-01\n",
            "  -2.77240396e-01 -1.08237907e-01 -5.31790666e-02 -5.23613300e-03\n",
            "   2.55830199e-01 -3.21335703e-01 -3.47966880e-01  1.74405128e-01\n",
            "  -1.79320589e-01 -7.64620602e-02 -2.18610197e-01 -8.48061517e-02\n",
            "   1.92936689e-01 -2.42051870e-01 -1.92608148e-01  3.69122215e-02]]\n"
          ],
          "name": "stdout"
        }
      ]
    }
  ]
}